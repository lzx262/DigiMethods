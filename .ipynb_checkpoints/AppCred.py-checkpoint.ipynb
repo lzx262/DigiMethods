{
 "cells": [
  {
   "cell_type": "code",
   "execution_count": 1,
   "metadata": {},
   "outputs": [],
   "source": [
    "#Application credentials for Twitter APIs\n",
    "\n",
    "CONSUMER_KEY = \"VXLvgJpHzAqirul1D15y3Knif\"\n",
    "CONSUMER_SECTRET = \"WxcF3E4nrbAi0wz1ckUhLO4ACTQTZExBoQuU8cpFMexhFt1OuQ\"\n",
    "\n",
    "ACCESS_TOKEN =\"1230413729000493057-W6JIyvDsIJvf1ZwAFsDLHPHinWQiKg\"\n",
    "ACCESS_SECRET = \"jN6FgwrIer2U5WYmBXsFXZGIfVNR9wkYJmV7yL3PG4H92\""
   ]
  },
  {
   "cell_type": "code",
   "execution_count": null,
   "metadata": {},
   "outputs": [],
   "source": []
  }
 ],
 "metadata": {
  "kernelspec": {
   "display_name": "Python 3",
   "language": "python",
   "name": "python3"
  },
  "language_info": {
   "codemirror_mode": {
    "name": "ipython",
    "version": 3
   },
   "file_extension": ".py",
   "mimetype": "text/x-python",
   "name": "python",
   "nbconvert_exporter": "python",
   "pygments_lexer": "ipython3",
   "version": "3.7.4"
  }
 },
 "nbformat": 4,
 "nbformat_minor": 2
}
