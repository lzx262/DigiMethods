{
 "cells": [
  {
   "cell_type": "markdown",
   "metadata": {},
   "source": [
    "# Exercise 2: Basic Python 2\n",
    "\n",
    "Builds on exercises provided with Programming with Python for Social Science by Phillip Brooker and from Social Data Science 2019 by Andreas Bjerre-Nielson\n",
    "\n",
    "## 2.1 Lists\n",
    "\n",
    "**Question 2.1.1**: make two lists, `mammals` and `reptiles`with respectively \"dog\",\"cat\",\"dolphin\" and \"gecko\",\"monitor lizard\",\"iguana\". What is the index of \"iguana\" in `reptiles`?"
   ]
  },
  {
   "cell_type": "code",
   "execution_count": 1,
   "metadata": {},
   "outputs": [],
   "source": [
    "#Answer to question 2.1.1"
   ]
  },
  {
   "cell_type": "code",
   "execution_count": 2,
   "metadata": {},
   "outputs": [
    {
     "data": {
      "text/plain": [
       "'iguana'"
      ]
     },
     "execution_count": 2,
     "metadata": {},
     "output_type": "execute_result"
    }
   ],
   "source": [
    "mammals = [\"dog\", \"cat\", \"dolphin\"]\n",
    "reptiles = [\"gecko\", \"monitor lizard\", \"iguana\"]\n",
    "\n",
    "#The index of \"iguana\" is 2 because indices start from 0\n",
    "#Checking answer\n",
    "reptiles[2]"
   ]
  },
  {
   "cell_type": "markdown",
   "metadata": {},
   "source": [
    "**Question 2.1.2**: make a list `animals` which consist of first `mammals`, then `reptiles`. \n",
    "Hint: See what happens when you `+` two lists together. "
   ]
  },
  {
   "cell_type": "code",
   "execution_count": 3,
   "metadata": {},
   "outputs": [],
   "source": [
    "#Answer to question 2.1.2"
   ]
  },
  {
   "cell_type": "code",
   "execution_count": 4,
   "metadata": {},
   "outputs": [
    {
     "name": "stdout",
     "output_type": "stream",
     "text": [
      "['dog', 'cat', 'dolphin', 'gecko', 'monitor lizard', 'iguana']\n"
     ]
    }
   ],
   "source": [
    "#adding lists mammals and reptiles\n",
    "animals = mammals + reptiles\n",
    "\n",
    "#printing new list animals\n",
    "print(animals)"
   ]
  },
  {
   "cell_type": "markdown",
   "metadata": {},
   "source": [
    "**Question 2.1.3**: Create list `some_reptiles` that contains only the second and third elements of `reptiles`. "
   ]
  },
  {
   "cell_type": "code",
   "execution_count": 5,
   "metadata": {},
   "outputs": [],
   "source": [
    "#Answer to question 2.1.3"
   ]
  },
  {
   "cell_type": "code",
   "execution_count": 6,
   "metadata": {},
   "outputs": [
    {
     "name": "stdout",
     "output_type": "stream",
     "text": [
      "['monitor lizard', 'iguana']\n"
     ]
    }
   ],
   "source": [
    "#making a sub-list of reptiles\n",
    "some_reptiles = reptiles[1:3] \n",
    "\n",
    "#printing new list of some_reptiles\n",
    "print(some_reptiles)"
   ]
  },
  {
   "cell_type": "markdown",
   "metadata": {},
   "source": [
    "- range starts at 1 because indices start at 0\n",
    "- range ends at 3 because the endpoint is not included in taking the range"
   ]
  },
  {
   "cell_type": "markdown",
   "metadata": {},
   "source": [
    "**Question 2.1.4**: replace the second element of `reptiles` with \"komodo dragon\". What are the values of `some_reptiles` now?"
   ]
  },
  {
   "cell_type": "code",
   "execution_count": 7,
   "metadata": {},
   "outputs": [],
   "source": [
    "#Answer to question 2.1.4"
   ]
  },
  {
   "cell_type": "code",
   "execution_count": 8,
   "metadata": {},
   "outputs": [
    {
     "name": "stdout",
     "output_type": "stream",
     "text": [
      "['monitor lizard', 'iguana']\n"
     ]
    }
   ],
   "source": [
    "#replacing the second element of reptiles\n",
    "reptiles[1] = \"komodo dragon\"\n",
    "\n",
    "#checking the values of some_reptiles\n",
    "print(some_reptiles)"
   ]
  },
  {
   "cell_type": "markdown",
   "metadata": {},
   "source": [
    "- The values of `some_reptiles` didn't change because the elements of `reptiles` were copied when creating some_reptiles"
   ]
  },
  {
   "cell_type": "markdown",
   "metadata": {},
   "source": [
    "**Question 2.1.5**: Create a list `animals2` that contains nested lists `mammals` and `reptiles`. How would you access the element \"dolphin\"?"
   ]
  },
  {
   "cell_type": "code",
   "execution_count": 9,
   "metadata": {},
   "outputs": [],
   "source": [
    "#Answer to question 2.1.5"
   ]
  },
  {
   "cell_type": "code",
   "execution_count": 10,
   "metadata": {},
   "outputs": [
    {
     "data": {
      "text/plain": [
       "'dolphin'"
      ]
     },
     "execution_count": 10,
     "metadata": {},
     "output_type": "execute_result"
    }
   ],
   "source": [
    "#creating animals2\n",
    "animals2 = [mammals, reptiles]\n",
    "\n",
    "#accessing 'dolphin' which is the third element \n",
    "#of the first list\n",
    "animals2[0][2]\n"
   ]
  },
  {
   "cell_type": "markdown",
   "metadata": {},
   "source": [
    "- Because the lists are nested, access the list indice first (i.e. mammals) and then the element index (dolphin)"
   ]
  },
  {
   "cell_type": "markdown",
   "metadata": {},
   "source": [
    "**Question 2.1.6**: What is the length of `animals` versus `animals2`? Why? "
   ]
  },
  {
   "cell_type": "code",
   "execution_count": 11,
   "metadata": {},
   "outputs": [],
   "source": [
    "#Answer to question 2.1.6"
   ]
  },
  {
   "cell_type": "code",
   "execution_count": 12,
   "metadata": {},
   "outputs": [
    {
     "name": "stdout",
     "output_type": "stream",
     "text": [
      "animals: 6\n",
      "animals2: 2\n"
     ]
    }
   ],
   "source": [
    "#The length of animals is 6 and animals2 is 2\n",
    "\n",
    "#Checking answer\n",
    "print(\"animals: \" + str(len(animals)))\n",
    "print(\"animals2: \" + str(len(animals2)))"
   ]
  },
  {
   "cell_type": "markdown",
   "metadata": {},
   "source": [
    "- animals contains all of the elements in the main list\n",
    "- animals2 contains two lists (it does not matter how many elements are in these lists)"
   ]
  },
  {
   "cell_type": "markdown",
   "metadata": {},
   "source": [
    "**Question 2.1.7**: Take the list below (it is the population of Denmark on Jan 1 from 1901 to 2020 in 1000s).\n",
    "\n",
    "How many elements are in the list? \n",
    "\n",
    "What is the range of the first 10 items? \n",
    "\n",
    "What is the range for elements between indices 80 and 90 (i.e. 1981 - 1991)? \n",
    "\n",
    "What was the population in 1904 (Hint: This is the fourth element in the list)"
   ]
  },
  {
   "cell_type": "code",
   "execution_count": 3,
   "metadata": {},
   "outputs": [
    {
     "name": "stdout",
     "output_type": "stream",
     "text": [
      "The number of years in the list is:120\n",
      "The range in the first 10 years is:275\n",
      "The range 1911 to 1921 is:24\n",
      "The population in 1904 was: 2532\n"
     ]
    }
   ],
   "source": [
    "#Data from https://www.statbank.dk/10021\n",
    "DK_population =[2447,2477,2506,2532,2560,2589,2621,2652,2687,2722,\n",
    "                2757,2788,2820,2851,2886,2921,2958,2991,3027,3061,\n",
    "                3265,3306,3340,3372,3406,3439,3467,3487,3510,3531,\n",
    "                3557,3590,3620,3651,3683,3711,3738,3765,3794,3826,\n",
    "                3849,3882,3926,3973,4023,4075,4123,4168,4211,4252,\n",
    "                4285,4315,4349,4389,4424,4454,4479,4501,4532,4566,\n",
    "                4601,4630,4666,4703,4741,4779,4820,4855,4879,4907,\n",
    "                4951,4976,5008,5036,5054,5065,5080,5097,5112,5122,\n",
    "                5124,5119,5116,5112,5111,5116,5125,5129,5130,5135,\n",
    "                5146,5162,5181,5197,5216,5251,5275,5295,5314,5330,\n",
    "                5349,5368,5384,5398,5411,5427,5447,5476,5511,5535,\n",
    "                5561,5581,5603,5627,5660,5707,5749,5781,5806,5823]\n",
    "\n",
    "#Answer to Question 2.1.8\n",
    "\n",
    "#counting number of elements in the list aka. the length of the list\n",
    "list_size = len(DK_population)\n",
    "\n",
    "#Finding the range of population size in the first 10 years\n",
    "min_pop1 = min(DK_population[:10])\n",
    "max_pop1 = max(DK_population[:10])\n",
    "range1 = max_pop1 - min_pop1\n",
    "\n",
    "#Finding the range of population size in the last 10 years\n",
    "min_pop2 = min(DK_population[80:90])\n",
    "max_pop2 = max(DK_population[80:90])\n",
    "range2 = max_pop2-min_pop2\n",
    "\n",
    "#Population in 1904\n",
    "pop_1904 = DK_population[3]\n",
    "\n",
    "#printing the results\n",
    "print(\"The number of years in the list is:\" + str(list_size))\n",
    "print(\"The range in the first 10 years is:\" + str(range1))\n",
    "print(\"The range 1911 to 1921 is:\" + str(range2))\n",
    "print(\"The population in 1904 was: \" + str(pop_1904))"
   ]
  },
  {
   "cell_type": "markdown",
   "metadata": {},
   "source": [
    "## 2.2 More Strings\n",
    "\n",
    "**Question 2.2.1**: Let `s1 = 'Chameleon`. From the string `s1` select the last four characters. What is the index of the character `a` in `s1`?\n",
    "\n",
    "*Hint*: We can selecting a substring by slicing it with the `[]` notation, from the start to end where start is included and end is excluded. Recall that Python has zero-based indexing, see explanation [here](https://softwareengineering.stackexchange.com/questions/110804/why-are-zero-based-arrays-the-norm).   "
   ]
  },
  {
   "cell_type": "code",
   "execution_count": 14,
   "metadata": {},
   "outputs": [],
   "source": [
    "#Answer to question 2.2.1"
   ]
  },
  {
   "cell_type": "code",
   "execution_count": 15,
   "metadata": {},
   "outputs": [
    {
     "data": {
      "text/plain": [
       "2"
      ]
     },
     "execution_count": 15,
     "metadata": {},
     "output_type": "execute_result"
    }
   ],
   "source": [
    "s1 = 'Chameleon'\n",
    "\n",
    "#last four characters of s_1\n",
    "s1_chars = s1[-4:]\n",
    "\n",
    "#The index of 'a' is 2\n",
    "#Checking the answer\n",
    "s1.index('a')"
   ]
  },
  {
   "cell_type": "markdown",
   "metadata": {},
   "source": [
    "**Quesion 2.2.2**: Let `my_url` be a url of your choice. Retrieve the part of a string before a specified character. \n",
    "For example, if your URL is the link for our course: https://kurser.ku.dk/course/aana18119u/2019-2020 and specific character is '/', then you should retrieve https://kurser.ku.dk/course/aana18119u. \n",
    "\n",
    "Remember that you can consult the [documentation for strings](https://docs.python.org/2.5/lib/string-methods.html) to find relevant methods "
   ]
  },
  {
   "cell_type": "code",
   "execution_count": 16,
   "metadata": {},
   "outputs": [],
   "source": [
    "#Answer to question 2.2.2"
   ]
  },
  {
   "cell_type": "code",
   "execution_count": 17,
   "metadata": {},
   "outputs": [
    {
     "name": "stdout",
     "output_type": "stream",
     "text": [
      "https://kurser.ku.dk/course/aana18119u\n"
     ]
    }
   ],
   "source": [
    "#Original URL\n",
    "my_url = \"https://kurser.ku.dk/course/aana18119u/2019-2020\"\n",
    "\n",
    "#Using rsplit method, which splits from the right. \n",
    "#'/' indicates the character to split by, 1 indicates how many splits, and [0] retrieves the first element in the list\n",
    "#method details in string documentation\n",
    "shorter_url = my_url.rsplit('/',1)[0]\n",
    "\n",
    "#printing the url \n",
    "print(shorter_url)"
   ]
  },
  {
   "cell_type": "markdown",
   "metadata": {},
   "source": [
    "## 2.3 Conditions and Loops\n",
    "\n",
    "**Question 2.3.1**: Revisit your script workflow from the previous assignment (Question 1.4.3). For which part of your script would you need to use a loop? What kind of loop would you use?"
   ]
  },
  {
   "cell_type": "code",
   "execution_count": 18,
   "metadata": {},
   "outputs": [],
   "source": [
    "#Answer to question 2.3.1"
   ]
  },
  {
   "cell_type": "markdown",
   "metadata": {},
   "source": [
    "**Question 2.3.2**: Using the list of population size `DK_population` from above, calculate the average population of Denmark from year 1901 to 2020 (the whole list) using a loop. Round to the nearest whole number."
   ]
  },
  {
   "cell_type": "code",
   "execution_count": 19,
   "metadata": {},
   "outputs": [],
   "source": [
    "#Answer to question 2.3.2"
   ]
  },
  {
   "cell_type": "code",
   "execution_count": 4,
   "metadata": {},
   "outputs": [
    {
     "name": "stdout",
     "output_type": "stream",
     "text": [
      "The average population from 1901 to 1920 was: 4363\n"
     ]
    }
   ],
   "source": [
    "DK_pop_avg = 0\n",
    "\n",
    "#the value of DK_pop_avg is just what value you want your sum to start at, so if you define DK_pop_avg to be 1000,\n",
    "#\n",
    "\n",
    "#looping through elements to create a sum of all elements\n",
    "for pop_size in DK_population:\n",
    "    DK_pop_avg = DK_pop_avg + pop_size\n",
    "\n",
    "#Dividing by the number of elements\n",
    "DK_pop_avg = DK_pop_avg / len(DK_population)\n",
    "\n",
    "#printing the results\n",
    "print(\"The average population from 1901 to 1920 was: \" + str(round(DK_pop_avg)))"
   ]
  },
  {
   "cell_type": "markdown",
   "metadata": {},
   "source": [
    "**Question 2.3.3**: Suppose you want your population size list to show the full population, not represented in the 1000s (i.e. 2447 should really be 2447000). Using a loop, create a new list `DK_population_long` where the elements show the full population. If you used a for loop for Question 2.3.2 then use a while loop for this question, or vice versa. "
   ]
  },
  {
   "cell_type": "code",
   "execution_count": 21,
   "metadata": {},
   "outputs": [],
   "source": [
    "#Answer to Question 2.3.3"
   ]
  },
  {
   "cell_type": "code",
   "execution_count": 12,
   "metadata": {},
   "outputs": [
    {
     "name": "stdout",
     "output_type": "stream",
     "text": [
      "[2447000, 2477000, 2506000, 2532000, 2560000, 2589000, 2621000, 2652000, 2687000, 2722000, 2757000, 2788000, 2820000, 2851000, 2886000, 2921000, 2958000, 2991000, 3027000, 3061000, 3265000, 3306000, 3340000, 3372000, 3406000, 3439000, 3467000, 3487000, 3510000, 3531000, 3557000, 3590000, 3620000, 3651000, 3683000, 3711000, 3738000, 3765000, 3794000, 3826000, 3849000, 3882000, 3926000, 3973000, 4023000, 4075000, 4123000, 4168000, 4211000, 4252000, 4285000, 4315000, 4349000, 4389000, 4424000, 4454000, 4479000, 4501000, 4532000, 4566000, 4601000, 4630000, 4666000, 4703000, 4741000, 4779000, 4820000, 4855000, 4879000, 4907000, 4951000, 4976000, 5008000, 5036000, 5054000, 5065000, 5080000, 5097000, 5112000, 5122000, 5124000, 5119000, 5116000, 5112000, 5111000, 5116000, 5125000, 5129000, 5130000, 5135000, 5146000, 5162000, 5181000, 5197000, 5216000, 5251000, 5275000, 5295000, 5314000, 5330000, 5349000, 5368000, 5384000, 5398000, 5411000, 5427000, 5447000, 5476000, 5511000, 5535000, 5561000, 5581000, 5603000, 5627000, 5660000, 5707000, 5749000, 5781000, 5806000, 5823000]\n"
     ]
    },
    {
     "data": {
      "text/plain": [
       "120"
      ]
     },
     "execution_count": 12,
     "metadata": {},
     "output_type": "execute_result"
    }
   ],
   "source": [
    "#Initializing variables\n",
    "count = 0\n",
    "DK_population_long = []\n",
    "\n",
    "#looping through DK_population, adding each element to DK_population_long and multiplying it by 1000\n",
    "while count < len(DK_population):\n",
    "    DK_population_long.append(DK_population[count] * 1000)\n",
    "    count = count + 1\n",
    "\n",
    "print(DK_population_long)\n",
    "len(DK_population_long)\n"
   ]
  },
  {
   "cell_type": "markdown",
   "metadata": {},
   "source": [
    "# 2.4 Dictionaries\n",
    "**Question 2.4.1**: Take the list of population size `DK_population` above and make a Dictionary called `DK_population_dict` with keys year and population (with the appropriate values). Recall that the data represents 1901 to 2020.  "
   ]
  },
  {
   "cell_type": "code",
   "execution_count": 23,
   "metadata": {},
   "outputs": [],
   "source": [
    "#Answer to question 2.4.1"
   ]
  },
  {
   "cell_type": "code",
   "execution_count": 21,
   "metadata": {},
   "outputs": [
    {
     "name": "stdout",
     "output_type": "stream",
     "text": [
      "{1901: 2447000, 1902: 2477000, 1903: 2506000, 1904: 2532000, 1905: 2560000, 1906: 2589000, 1907: 2621000, 1908: 2652000, 1909: 2687000, 1910: 2722000, 1911: 2757000, 1912: 2788000, 1913: 2820000, 1914: 2851000, 1915: 2886000, 1916: 2921000, 1917: 2958000, 1918: 2991000, 1919: 3027000, 1920: 3061000, 1921: 3265000, 1922: 3306000, 1923: 3340000, 1924: 3372000, 1925: 3406000, 1926: 3439000, 1927: 3467000, 1928: 3487000, 1929: 3510000, 1930: 3531000, 1931: 3557000, 1932: 3590000, 1933: 3620000, 1934: 3651000, 1935: 3683000, 1936: 3711000, 1937: 3738000, 1938: 3765000, 1939: 3794000, 1940: 3826000, 1941: 3849000, 1942: 3882000, 1943: 3926000, 1944: 3973000, 1945: 4023000, 1946: 4075000, 1947: 4123000, 1948: 4168000, 1949: 4211000, 1950: 4252000, 1951: 4285000, 1952: 4315000, 1953: 4349000, 1954: 4389000, 1955: 4424000, 1956: 4454000, 1957: 4479000, 1958: 4501000, 1959: 4532000, 1960: 4566000, 1961: 4601000, 1962: 4630000, 1963: 4666000, 1964: 4703000, 1965: 4741000, 1966: 4779000, 1967: 4820000, 1968: 4855000, 1969: 4879000, 1970: 4907000, 1971: 4951000, 1972: 4976000, 1973: 5008000, 1974: 5036000, 1975: 5054000, 1976: 5065000, 1977: 5080000, 1978: 5097000, 1979: 5112000, 1980: 5122000, 1981: 5124000, 1982: 5119000, 1983: 5116000, 1984: 5112000, 1985: 5111000, 1986: 5116000, 1987: 5125000, 1988: 5129000, 1989: 5130000, 1990: 5135000, 1991: 5146000, 1992: 5162000, 1993: 5181000, 1994: 5197000, 1995: 5216000, 1996: 5251000, 1997: 5275000, 1998: 5295000, 1999: 5314000, 2000: 5330000, 2001: 5349000, 2002: 5368000, 2003: 5384000, 2004: 5398000, 2005: 5411000, 2006: 5427000, 2007: 5447000, 2008: 5476000, 2009: 5511000, 2010: 5535000, 2011: 5561000, 2012: 5581000, 2013: 5603000, 2014: 5627000, 2015: 5660000, 2016: 5707000, 2017: 5749000, 2018: 5781000, 2019: 5806000, 2020: 5823000}\n"
     ]
    }
   ],
   "source": [
    "#Creating a list of years\n",
    "years = list(range(1901,2021))\n",
    "\n",
    "#Zipping together the years and population\n",
    "key_values = list(zip(years, DK_population_long))\n",
    "\n",
    "#Creating a dictionary\n",
    "DK_population_dict = dict(key_values)\n",
    "\n",
    "#Printing dictionary to see results\n",
    "print(DK_population_dict)"
   ]
  },
  {
   "cell_type": "markdown",
   "metadata": {},
   "source": [
    "**Question 2.4.2**: What was the population in the year 1950?"
   ]
  },
  {
   "cell_type": "code",
   "execution_count": 25,
   "metadata": {},
   "outputs": [],
   "source": [
    "#Answer to question 2.4.2"
   ]
  },
  {
   "cell_type": "code",
   "execution_count": 19,
   "metadata": {},
   "outputs": [
    {
     "data": {
      "text/plain": [
       "4252000"
      ]
     },
     "execution_count": 19,
     "metadata": {},
     "output_type": "execute_result"
    }
   ],
   "source": [
    "DK_population_dict[1950]\n",
    "\n",
    "#by making a dictionary, you'll be able to "
   ]
  },
  {
   "cell_type": "markdown",
   "metadata": {},
   "source": [
    "**Question 2.4.3**: Write a dictionary called `my_dictionary` that stores:\n",
    "- Your favourite animal\n",
    "- Your favourite colour\n",
    "- Your favourite TV Show\n",
    "- Your favourite film"
   ]
  },
  {
   "cell_type": "code",
   "execution_count": 27,
   "metadata": {},
   "outputs": [],
   "source": [
    "#Answer to question 2.4.3"
   ]
  },
  {
   "cell_type": "code",
   "execution_count": 22,
   "metadata": {},
   "outputs": [],
   "source": [
    "my_dictionary = {'animal':'dog',\n",
    "                 'colour':'green',\n",
    "                 'tv-show':'Friends',\n",
    "                 'film':'none'}"
   ]
  },
  {
   "cell_type": "markdown",
   "metadata": {},
   "source": [
    "**Question 2.4.4**: Add a key and value to the your dictionary from 2.4.3 with your favourite band or artist. "
   ]
  },
  {
   "cell_type": "code",
   "execution_count": 29,
   "metadata": {},
   "outputs": [],
   "source": [
    "#Answer to question 2.4.4"
   ]
  },
  {
   "cell_type": "code",
   "execution_count": 27,
   "metadata": {},
   "outputs": [
    {
     "name": "stdout",
     "output_type": "stream",
     "text": [
      "{'animal': 'dog', 'colour': 'green', 'tv-show': 'Friends', 'film': 'none', 'band': 'TV2', 'artist': 'Jamie Cullum', 'country': 'Denmark', 'type of phone': 'Huawai'}\n"
     ]
    }
   ],
   "source": [
    "my_dictionary.update({'type of phone':'Huawai'})\n",
    "print(my_dictionary)\n",
    "\n"
   ]
  },
  {
   "cell_type": "markdown",
   "metadata": {},
   "source": [
    "**Question 2.4.5**: \n",
    "1. Delete the favourite film field.\n",
    "2. Create an empty dictionary with the variable name as your favourite movie \n",
    "3. Populate the dictionary with the following keys (and give them values): \n",
    "    - Year\n",
    "    - Genre\n",
    "4. Do steps 2 and 3 for a two or three movies. \n",
    "5. Add the dictionaries of movies to a new dictionary called `favourite_movies` with the movie title as the key for each entry. \n",
    "6. Add `favourite_movies` to your `my_dictionary` under the key \"Favourite movies\"\n",
    "\n"
   ]
  },
  {
   "cell_type": "code",
   "execution_count": 31,
   "metadata": {},
   "outputs": [],
   "source": [
    "#Answer to question 2.4.5"
   ]
  },
  {
   "cell_type": "code",
   "execution_count": 32,
   "metadata": {},
   "outputs": [
    {
     "data": {
      "text/plain": [
       "'Jamie Cullum'"
      ]
     },
     "execution_count": 32,
     "metadata": {},
     "output_type": "execute_result"
    }
   ],
   "source": [
    "#Removing favorite film field\n",
    "my_dictionary.pop('artist')\n",
    "\n",
    "#Note: THis is being kept in a separate cell \n",
    "#because we only want to run this once, but testing\n",
    "#the cell below might take multiple tries!"
   ]
  },
  {
   "cell_type": "code",
   "execution_count": 33,
   "metadata": {},
   "outputs": [
    {
     "name": "stdout",
     "output_type": "stream",
     "text": [
      "{'animal': 'dog', 'colour': 'green', 'tv-show': 'Friends', 'film': 'none', 'country': 'Denmark', 'type of phone': 'Huawai'}\n"
     ]
    }
   ],
   "source": [
    "print(my_dictionary)"
   ]
  },
  {
   "cell_type": "code",
   "execution_count": 38,
   "metadata": {},
   "outputs": [
    {
     "name": "stdout",
     "output_type": "stream",
     "text": [
      "{'animal': 'dog', 'colour': 'green', 'tv-show': 'Friends', 'film': 'none', 'country': 'Denmark', 'type of phone': 'Huawai', 'Education': {'University': {'School': 'Copenhagen University', 'Year': 2015, 'Program': 'Anthropology'}, 'High School': {'School': 'Roskilde Gymnasium', 'Year': 2010, 'Program': 'Samf B, Eng A, Mus A'}}}\n"
     ]
    }
   ],
   "source": [
    "#Below shows a variety of ways to add things to dictionaries\n",
    "#Some are simpler than others!\n",
    "\n",
    "#Creating new dictionaries\n",
    "\n",
    "Current_education = {'School': 'Copenhagen University',\n",
    "            'Year': 2015,\n",
    "            'Program': 'Anthropology'}\n",
    "High_school = {'School': 'Roskilde Gymnasium',\n",
    "              'Year': 2010,\n",
    "              'Program': 'Samf B, Eng A, Mus A'}\n",
    "\n",
    "#Creating dictionary of favourite movies\n",
    "favourite_movies={'Star Wars: Rise of Skywalker': Star_Wars,\n",
    "                 'Thor: Ragnarok': Thor_Ragnarok}\n",
    "\n",
    "education = {'University': Current_education,\n",
    "            'High School': High_school}\n",
    "\n",
    "#adding to my dictionary\n",
    "my_dictionary['Education'] = education\n",
    "\n",
    "#my_dictionary.pop('Favourite movies')\n",
    "\n",
    "#printing the dictionary\n",
    "print(my_dictionary)"
   ]
  },
  {
   "cell_type": "markdown",
   "metadata": {},
   "source": [
    "**Question 2.4.6**: See if you can print out different keys and values from `my_dictionary`. "
   ]
  },
  {
   "cell_type": "code",
   "execution_count": 34,
   "metadata": {},
   "outputs": [],
   "source": [
    "#Answer to question 2.4.6"
   ]
  },
  {
   "cell_type": "code",
   "execution_count": 35,
   "metadata": {},
   "outputs": [
    {
     "name": "stdout",
     "output_type": "stream",
     "text": [
      "2017\n"
     ]
    }
   ],
   "source": [
    "#printing out the year that Thor came out\n",
    "print(my_dictionary['Favourite movies']['Thor: Ragnarok']['Year'])"
   ]
  },
  {
   "cell_type": "markdown",
   "metadata": {},
   "source": [
    "## 2.5 Reflection\n",
    "**Question 2.5.1**: Write a brief paragraph reflecting on your experience learning programming today. What did you struggle with? What did you enjoy? What surprised you?"
   ]
  },
  {
   "cell_type": "markdown",
   "metadata": {},
   "source": [
    "Todays exercises were a bit long, but we hope you had fun! Mountain climbing Octocat says congrats on finishing!\n",
    "<img src=\"./octocat.png\" />"
   ]
  },
  {
   "cell_type": "code",
   "execution_count": null,
   "metadata": {},
   "outputs": [],
   "source": []
  }
 ],
 "metadata": {
  "kernelspec": {
   "display_name": "Python 3",
   "language": "python",
   "name": "python3"
  },
  "language_info": {
   "codemirror_mode": {
    "name": "ipython",
    "version": 3
   },
   "file_extension": ".py",
   "mimetype": "text/x-python",
   "name": "python",
   "nbconvert_exporter": "python",
   "pygments_lexer": "ipython3",
   "version": "3.7.4"
  }
 },
 "nbformat": 4,
 "nbformat_minor": 2
}
