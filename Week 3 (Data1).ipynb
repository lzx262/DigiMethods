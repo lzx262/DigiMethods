{
 "cells": [
  {
   "cell_type": "markdown",
   "metadata": {},
   "source": [
    "# Functions"
   ]
  },
  {
   "cell_type": "code",
   "execution_count": 12,
   "metadata": {},
   "outputs": [
    {
     "name": "stdout",
     "output_type": "stream",
     "text": [
      "68.0\n"
     ]
    }
   ],
   "source": [
    "#Functions are command to make codes to something, written function[data]\n",
    "#Using functions save you time because you don't have to write it out over and over\n",
    "#You can name your function something that makes sense and makes it more readable\n",
    "\n",
    "#Make a funtion by:\n",
    "def average(a_list):\n",
    "    avg = 0\n",
    "    for elements in a_list:\n",
    "        avg += elements\n",
    "    return(avg/len(a_list))\n",
    "\n",
    "#this function calculates the average of a list, \n",
    "#which you can call whenever you want from now on by first \n",
    "#defining a list, and then calling the function.\n",
    "#You always want to define your function before defining what you're using it for (here, my_list1)\n",
    "\n",
    "my_list1=(1,2,5,6,8,33,5,6,45,678,23,4)\n",
    "print(average(my_list1))"
   ]
  },
  {
   "cell_type": "markdown",
   "metadata": {},
   "source": [
    "## Testing"
   ]
  },
  {
   "cell_type": "code",
   "execution_count": 8,
   "metadata": {},
   "outputs": [],
   "source": [
    "#Before you finish a code you test for typical input, \n",
    "#where we expect errors and boundary conditions \n",
    "#(unsual inputs (heavy data load or negative intergers))\n",
    "#Test in seperate cells by putting in different kinds of input (e.g. interger lists, floats lists, mixed lists)\n",
    "\n",
    "#See demo for a way of cathcing errors and defining the output you want in case of an error\n",
    "#e.g. if you want an output saying \"I can only work with numbers\" of you try and calculate \n",
    "#an average on a list of strings, or mixed list\n",
    "\n",
    "#Making an error statement is useful for when you share your codes with others, so they can see what went wrong"
   ]
  },
  {
   "cell_type": "code",
   "execution_count": null,
   "metadata": {},
   "outputs": [],
   "source": [
    "#Variables you declare in a notebook, stays in the notebook, however a variable that's \n",
    "#defined in the function stays in the function (global vs. local variables, different scopes).\n",
    "#Return gives an output to outside of the function turning it into having a global scope"
   ]
  },
  {
   "cell_type": "markdown",
   "metadata": {},
   "source": [
    "# Text files"
   ]
  },
  {
   "cell_type": "code",
   "execution_count": 17,
   "metadata": {},
   "outputs": [
    {
     "name": "stdout",
     "output_type": "stream",
     "text": [
      "The rise of new types of digital data and the varieties of social life taking place on social media platforms enable new relations between quantitative and qualitative methods of inquiry and analysis. How such new complementarities are best exploited for social-scientific and practical purposes will be the focus of this course.\n",
      "\n"
     ]
    }
   ],
   "source": [
    "#IO operations (input output operations)\n",
    "#To open a text file, you call the open function \n",
    "#- make sure the file is in the same folder as the file you're working in\n",
    "\n",
    "#E.g.\n",
    "f = open('course_description.txt', 'r')\n",
    "#Reading only the first line\n",
    "first_string = f.readline()\n",
    "print(first_string)\n",
    "\n",
    "#the end of a line is defined by the /n coding, not how it looks on the page \n",
    "#(this is why first_string is such a long string)"
   ]
  },
  {
   "cell_type": "code",
   "execution_count": 20,
   "metadata": {},
   "outputs": [],
   "source": [
    "#When you use the write function to a textfile IT WILL OVERWRITE WHAT'S ALREADY THERE, so CAUTION!\n",
    "#Opening a new file\n",
    "f2 = open('new_file.text', 'w')\n",
    "f2.write(\"I'm write in a new text file\")\n",
    "\n",
    "#Remember to always close your files, otherwise you will lose what you've been working on\n",
    "f.close()\n",
    "f2.close()\n",
    "#You find your new text file in the folder, where you're working "
   ]
  },
  {
   "cell_type": "code",
   "execution_count": 35,
   "metadata": {},
   "outputs": [
    {
     "name": "stdout",
     "output_type": "stream",
     "text": [
      "Week 3 (Data1).ipynb\n",
      "new_file.text\n",
      "W2D2-Exercise2.ipynb\n",
      "W2D1-Exercise1_sol.ipynb\n",
      "stop_words.txt\n",
      "W1D2-3_2_commenting.ipynb\n",
      "Week 1 (Commenting).ipynb\n",
      "sodas_people.txt\n",
      "README.md\n",
      "W2D2-Exercise_sol.ipynb\n",
      "W3D1 Demo.ipynb\n",
      "octocat.png\n",
      "New_dir\n",
      "New\n",
      ".gitattributes\n",
      "course_description.txt\n",
      ".ipynb_checkpoints\n",
      "W2D1-Exercise1.ipynb\n",
      "W1D2-3_2_commenting.py\n",
      ".git\n",
      "W3D1-Exercise3.ipynb\n",
      "Speech_2019.txt\n"
     ]
    }
   ],
   "source": [
    "#How to work with a text file that's in a subfolder/different folder\n",
    "#To open a different library to use in Python, use the import function\n",
    "import os\n",
    "\n",
    "#Looping through all the files in the library:\n",
    "for filename in os.listdir('.'):\n",
    "    #printing the files\n",
    "    print(filename)\n",
    "\n",
    "#To add an directory, you use the os.mkdir(\"name\") function, e.g. adding a directory called New\n",
    "os.mkdir(\"New_direx\")\n"
   ]
  },
  {
   "cell_type": "code",
   "execution_count": 39,
   "metadata": {},
   "outputs": [],
   "source": []
  },
  {
   "cell_type": "markdown",
   "metadata": {},
   "source": [
    "# Regular expressions"
   ]
  },
  {
   "cell_type": "code",
   "execution_count": null,
   "metadata": {},
   "outputs": [],
   "source": [
    "#Use regular expression to search for things in your files, e.g. e-mail adresses, phonenumbers and such\n",
    "#You can't tidy up data before you've retrieved it, e.g. delete the whitespace from phone numbers.\n",
    "\n",
    "#An example of finding an e-mail adress is the following\n",
    "email_pattern = '(\\S+@\\S+\\.(\\w){2,3})'\n",
    "#\\S+ (capital s means not - so NO whitespace, + means multiple times)\n",
    "#You can up in different characters that needs to be there, e.g. @ and . \n",
    "#The (\\w){2,3} means that you want two or three alphabetic characters after the .  "
   ]
  }
 ],
 "metadata": {
  "kernelspec": {
   "display_name": "Python 3",
   "language": "python",
   "name": "python3"
  },
  "language_info": {
   "codemirror_mode": {
    "name": "ipython",
    "version": 3
   },
   "file_extension": ".py",
   "mimetype": "text/x-python",
   "name": "python",
   "nbconvert_exporter": "python",
   "pygments_lexer": "ipython3",
   "version": "3.7.4"
  }
 },
 "nbformat": 4,
 "nbformat_minor": 2
}
