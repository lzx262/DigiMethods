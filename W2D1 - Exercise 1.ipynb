{
 "cells": [
  {
   "cell_type": "markdown",
   "metadata": {},
   "source": [
    "# Exercise 1: Basic Python 1\n",
    "Modified from exercises provided with Programming with Python for Social Science by Phillip Brooker and from Social Data Science 2019 by Andreas Bjerre-Nielson\n",
    "\n",
    "## 1.1 DATA TYPES\n",
    "**QUESTION 1.1.1**"
   ]
  },
  {
   "cell_type": "code",
   "execution_count": null,
   "metadata": {},
   "outputs": [],
   "source": [
    "#an integer is a \"whole number\" (i.e. one with no decimal point)\n",
    "my_integer = 14\n",
    "\n",
    "#a float is a numerical value with a decimal point\n",
    "my_float = 11.1\n",
    "\n",
    "#a string is text\n",
    "my_string = \"This is my string.\"\n"
   ]
  },
  {
   "cell_type": "markdown",
   "metadata": {},
   "source": [
    "What type of variables do you think the following five are? "
   ]
  },
  {
   "cell_type": "code",
   "execution_count": 42,
   "metadata": {},
   "outputs": [],
   "source": [
    "var1 = \"0.1\"\n",
    "type(var1)\n",
    "var2 = 5 - 9\n",
    "#integer\n",
    "var3 = 10 + 10.1\n",
    "#float\n",
    "var4 = \"10 + 10.1\"\n",
    "#string\n",
    "var5 = 10.1 - 0.1\n",
    "#float"
   ]
  },
  {
   "cell_type": "code",
   "execution_count": 39,
   "metadata": {},
   "outputs": [
    {
     "data": {
      "text/plain": [
       "False"
      ]
     },
     "execution_count": 39,
     "metadata": {},
     "output_type": "execute_result"
    }
   ],
   "source": [
    "#Answer to Question 1.1.1\n",
    "var3.is_integer()"
   ]
  },
  {
   "cell_type": "markdown",
   "metadata": {},
   "source": [
    "## 1.2 Basic Operations"
   ]
  },
  {
   "cell_type": "markdown",
   "metadata": {},
   "source": [
    "**Question 1.2.1**: Variables can be reassigned and overwritten."
   ]
  },
  {
   "cell_type": "code",
   "execution_count": 9,
   "metadata": {},
   "outputs": [],
   "source": [
    "original_var = 20\n",
    "new_var = original_var + 10\n",
    "\n",
    "original_var2 = 5\n",
    "original_var2 = original_var2 + 5"
   ]
  },
  {
   "cell_type": "markdown",
   "metadata": {},
   "source": [
    "Can you guess the values for new_var and original_var2?\n"
   ]
  },
  {
   "cell_type": "code",
   "execution_count": 19,
   "metadata": {},
   "outputs": [
    {
     "name": "stdout",
     "output_type": "stream",
     "text": [
      "30\n",
      "10\n"
     ]
    }
   ],
   "source": [
    "#Answer to Question 1.2.1\n",
    "original_var = 20\n",
    "new_var = original_var + 10\n",
    "print(new_var)\n",
    "print(original_var2)"
   ]
  },
  {
   "cell_type": "markdown",
   "metadata": {},
   "source": [
    "**Question 1.2.2**: Can you guess what string1 will contain?"
   ]
  },
  {
   "cell_type": "code",
   "execution_count": 25,
   "metadata": {},
   "outputs": [],
   "source": [
    "string1 = \"This is the first part of the string.\"\n",
    "string1 = string1 + \" This is the second part of the string.\""
   ]
  },
  {
   "cell_type": "code",
   "execution_count": 26,
   "metadata": {},
   "outputs": [
    {
     "name": "stdout",
     "output_type": "stream",
     "text": [
      "This is the first part of the string. This is the second part of the string.\n"
     ]
    }
   ],
   "source": [
    "#Answer to Question 1.2.2\n",
    "print(string1)"
   ]
  },
  {
   "cell_type": "markdown",
   "metadata": {},
   "source": [
    "**Question 1.2.3**: Try adding these two variables together, and explain what happens."
   ]
  },
  {
   "cell_type": "code",
   "execution_count": null,
   "metadata": {},
   "outputs": [],
   "source": [
    "first_bit = 14\n",
    "second_bit = \"14\"\n"
   ]
  },
  {
   "cell_type": "code",
   "execution_count": 30,
   "metadata": {},
   "outputs": [],
   "source": [
    "# Answer to Question 1.2.3\n",
    "#Impossible - you can't add a string to an integer"
   ]
  },
  {
   "cell_type": "markdown",
   "metadata": {},
   "source": [
    "**Question 1.2.4**\n",
    "\n",
    "We can also convert variable types to different variable types, as follows:\n",
    "\n",
    "To 'stringify' something, we can use str(VARIABLE). Below, I'll declare a variable which is an integer, then I'll use str(VARIABLE) to write the 'stringified' version to a new variable."
   ]
  },
  {
   "cell_type": "code",
   "execution_count": null,
   "metadata": {},
   "outputs": [],
   "source": [
    "my_integer_variable = 30\n",
    "my_stringified_variable = str(my_integer_variable)"
   ]
  },
  {
   "cell_type": "markdown",
   "metadata": {},
   "source": [
    "To 'integerify' something, we can use int(VARIABLE). Below, I'll declare a\n",
    "variable which is a number written out as a string, then I'll use\n",
    "int(VARIABLE) to write the 'integerified' version to a new variable."
   ]
  },
  {
   "cell_type": "code",
   "execution_count": null,
   "metadata": {},
   "outputs": [],
   "source": [
    "my_string_variable = \"30\"\n",
    "my_integerified_variable = int(my_string_variable)"
   ]
  },
  {
   "cell_type": "markdown",
   "metadata": {},
   "source": [
    "To 'floatify' an integer, we can use float(VARIABLE). Below, declare an\n",
    "integer variable, then use float(VARIABLE) to write the 'floatified'\n",
    "version to a new variable: "
   ]
  },
  {
   "cell_type": "code",
   "execution_count": 44,
   "metadata": {},
   "outputs": [
    {
     "data": {
      "text/plain": [
       "float"
      ]
     },
     "execution_count": 44,
     "metadata": {},
     "output_type": "execute_result"
    }
   ],
   "source": [
    "# Answer to Question 1.2.4\n",
    "my_float_var = 30\n",
    "my_float_var = float(my_float_var)\n",
    "type(my_float_var)"
   ]
  },
  {
   "cell_type": "markdown",
   "metadata": {},
   "source": [
    "**Question 1.2.5**: Division in Python has two ways of usage. What is the output of `5/2`?  What is the output of `5//2`? What is the fundamental data type for each of the two operations? Explain your results."
   ]
  },
  {
   "cell_type": "code",
   "execution_count": 47,
   "metadata": {},
   "outputs": [
    {
     "data": {
      "text/plain": [
       "2.5"
      ]
     },
     "execution_count": 47,
     "metadata": {},
     "output_type": "execute_result"
    }
   ],
   "source": [
    "# Answer to Question 1.2.5\n",
    "#5/2 is regular division, so the result is 2.5\n",
    "#5//2 is floor division, so the result is 2, since it will round down\n",
    "\n",
    "5/2"
   ]
  },
  {
   "cell_type": "code",
   "execution_count": 48,
   "metadata": {},
   "outputs": [
    {
     "data": {
      "text/plain": [
       "2"
      ]
     },
     "execution_count": 48,
     "metadata": {},
     "output_type": "execute_result"
    }
   ],
   "source": [
    "5//2"
   ]
  },
  {
   "cell_type": "markdown",
   "metadata": {},
   "source": [
    "**Question 1.2.6**: What is the output of `5%2` and `5**2`? Explain your answers."
   ]
  },
  {
   "cell_type": "code",
   "execution_count": 49,
   "metadata": {},
   "outputs": [],
   "source": [
    "# Answer to Question 1.2.6\n",
    "#5%2 is 1, since it's what's left over after floor division\n",
    "#5**2 is running 5 square, and the result is 25"
   ]
  },
  {
   "cell_type": "markdown",
   "metadata": {},
   "source": [
    "**Question 1.2.7**: Use expressions <, >, ==, != to compare 4 to 6 (e.g. run 4<6). What are the input data types? What are the output data types?"
   ]
  },
  {
   "cell_type": "code",
   "execution_count": 53,
   "metadata": {},
   "outputs": [
    {
     "data": {
      "text/plain": [
       "True"
      ]
     },
     "execution_count": 53,
     "metadata": {},
     "output_type": "execute_result"
    }
   ],
   "source": [
    "# Answer to Question 1.2.7\n",
    "4==6\n",
    "4<6\n",
    "4!=6\n",
    "\n",
    "\n",
    "#the input is an integer\n",
    "#the output is a boolean (true or false)"
   ]
  },
  {
   "cell_type": "markdown",
   "metadata": {},
   "source": [
    "## 1.3 String Operations"
   ]
  },
  {
   "cell_type": "markdown",
   "metadata": {},
   "source": [
    "Strings have multiple operations and functions associated. In this exercise we investigate a few of these. \n",
    "\n",
    "**Question 1.3.1**: Create variables s1='Chameleon' and s2='ham'. Check whether the string s2 is a substring of s1. \n",
    "\n",
    "*Hint: One string operation is to check whether a string S contains a substring T, this can be done with the in \n",
    "operator: S in T.*"
   ]
  },
  {
   "cell_type": "code",
   "execution_count": 55,
   "metadata": {},
   "outputs": [
    {
     "data": {
      "text/plain": [
       "True"
      ]
     },
     "execution_count": 55,
     "metadata": {},
     "output_type": "execute_result"
    }
   ],
   "source": [
    "# Answer to Question 1.3.1 \n",
    "s1='Chameleon'\n",
    "s2='ham'\n",
    "s2 in s1"
   ]
  },
  {
   "cell_type": "markdown",
   "metadata": {},
   "source": [
    "**Question 1.3.2**: Make a variable s3 that is the same as s1 but all upper case, then check again whether s2 is a substring of of s3. Explain your answer. \n",
    "\n",
    "*Hint: Remember that strings have methods like upper(), lower(), and capitalize()* "
   ]
  },
  {
   "cell_type": "code",
   "execution_count": 60,
   "metadata": {},
   "outputs": [
    {
     "data": {
      "text/plain": [
       "False"
      ]
     },
     "execution_count": 60,
     "metadata": {},
     "output_type": "execute_result"
    }
   ],
   "source": [
    "# Answer to Question 1.3.2\n",
    "s3=s1.upper()\n",
    "s3\n",
    "s2 in s3"
   ]
  },
  {
   "cell_type": "markdown",
   "metadata": {},
   "source": [
    "## 1.4 Control logic (if statements)\n",
    "\n",
    "**Question 1.4.1**: Imagine that we have a car that can fit 5 passengers, and we want to know, if the car can fit more passengers. Using 'if' and 'else', make a piece of code that prints out \"The car is full\" if passengers (taken as input) is 5 or more, and \"The car is not full yet\" if passengers are less than 5.\n",
    "\n",
    "Note: Multiple conditions can be inserted with elif statement(s):"
   ]
  },
  {
   "cell_type": "code",
   "execution_count": null,
   "metadata": {},
   "outputs": [],
   "source": [
    "passengers = input (\"How many passengers are in the car?\")"
   ]
  },
  {
   "cell_type": "code",
   "execution_count": 66,
   "metadata": {},
   "outputs": [
    {
     "name": "stdout",
     "output_type": "stream",
     "text": [
      "How many passengers are in the car? 3\n",
      "the car is not full yet\n"
     ]
    }
   ],
   "source": [
    "#Read how many passengers are in the car\n",
    "passengers = input (\"How many passengers are in the car? \")\n",
    "\n",
    "passengers = int(passengers)\n",
    "\n",
    "#Answer to Question 1.4.1\n",
    "\n",
    "\n",
    "if passengers >= 5:\n",
    "    print(\"The car is full\")\n",
    "else:\n",
    "    print (\"the car is not full yet\")"
   ]
  },
  {
   "cell_type": "markdown",
   "metadata": {},
   "source": [
    "**Question 1.4.2**: Create a program which produces statements about numbers that you give it, with the following conditions:\n",
    "- if the number is over 100 print \"Phew, that's a big number.\"\n",
    "- if the number is even, print \"This one is even.\"\n",
    "- if the number is even and over 100 print \"Stop. I can't even.\"\n",
    "- if the number doesn't satisfy any of these conditions, print the number."
   ]
  },
  {
   "cell_type": "code",
   "execution_count": 73,
   "metadata": {},
   "outputs": [
    {
     "name": "stdout",
     "output_type": "stream",
     "text": [
      "Write a magical number: 50\n",
      "This one is even\n"
     ]
    }
   ],
   "source": [
    "#Answer to Question 1.4.2\n",
    "number1 = input (\"Write a magical number: \")\n",
    "number1 = int(number1)\n",
    "\n",
    "\n",
    "if  number1>=100 and number1%2==0:\n",
    "    print(\"Stop I can't even\")\n",
    "elif number1 > 100:\n",
    "    print(\"Phew, that's a big number\")\n",
    "elif number1 % 2 == 0:\n",
    "    print(\"This one is even\")\n",
    "else:\n",
    "    print(number1)\n",
    "#Check the program with a few values to see if it gives the results you expect."
   ]
  },
  {
   "cell_type": "markdown",
   "metadata": {},
   "source": [
    "**Question 1.4.3**: Choose an everyday activity (like making tea). Write a script workflow for that activity."
   ]
  },
  {
   "cell_type": "markdown",
   "metadata": {},
   "source": [
    "*Answer to Question 1.4.3. here. \n",
    "Note that this cell is in Markdown mode rather than Code mode, so you can write your answer as text.* "
   ]
  },
  {
   "cell_type": "markdown",
   "metadata": {},
   "source": [
    "## 1.5 Reflection\n",
    "**Question 1.5.1**: Write a brief paragraph reflecting on your experience learning basic programming operations and logic structures. What did you struggle with? What did you enjoy? What surprised you?\n",
    "    *Note: We will ask you in the assignments to submit a summary of your reflections*"
   ]
  },
  {
   "cell_type": "markdown",
   "metadata": {},
   "source": [
    "*Answer to Question 1.5.1*"
   ]
  }
 ],
 "metadata": {
  "kernelspec": {
   "display_name": "Python 3",
   "language": "python",
   "name": "python3"
  },
  "language_info": {
   "codemirror_mode": {
    "name": "ipython",
    "version": 3
   },
   "file_extension": ".py",
   "mimetype": "text/x-python",
   "name": "python",
   "nbconvert_exporter": "python",
   "pygments_lexer": "ipython3",
   "version": "3.7.4"
  }
 },
 "nbformat": 4,
 "nbformat_minor": 2
}
