{
 "cells": [
  {
   "cell_type": "markdown",
   "metadata": {},
   "source": [
    "# Exercise 4: APIs and Functions II \n",
    "\n",
    "## 4.1 Using the Twitter API to collect data"
   ]
  },
  {
   "cell_type": "markdown",
   "metadata": {},
   "source": [
    "**4.1.1** Find the Twitter account of the University of Copenhagen's Faculty of Social Science _by hand_ and get their Twitter account information using `tweepy` functionality. Remember that you just started a new Jupyter Notebook, so you will have to load the necessary modules and set up your authentication with the Twitter API. "
   ]
  },
  {
   "cell_type": "code",
   "execution_count": 3,
   "metadata": {},
   "outputs": [],
   "source": [
    "# SETUP\n",
    "import tweepy\n",
    "# set up authentication for twitter\n",
    "# first, use tweep OAuthHandler function to generate authentification object\n",
    "from AppCred1 import CONSUMER_KEY, CONSUMER_SECRET\n",
    "from AppCred1 import ACCESS_TOKEN, ACCESS_TOKEN_SECRET\n",
    "auth = tweepy.OAuthHandler(CONSUMER_KEY, CONSUMER_SECRET)\n",
    "# second, add access token and secret to authentification object\n",
    "auth.set_access_token(ACCESS_TOKEN, ACCESS_TOKEN_SECRET)\n",
    "# finally, generate variable to interact with twitter API\n",
    "api = tweepy.API(auth)"
   ]
  },
  {
   "cell_type": "code",
   "execution_count": 11,
   "metadata": {},
   "outputs": [],
   "source": [
    "# getting KU SAMF account\n",
    "kusamf_timeline = api.get_user(\"KuSamf\")"
   ]
  },
  {
   "cell_type": "markdown",
   "metadata": {},
   "source": [
    "**4.1.2** When was this account created? Try to use the `str` and `print` commands to respond with a complete sentence."
   ]
  },
  {
   "cell_type": "code",
   "execution_count": 12,
   "metadata": {
    "scrolled": true
   },
   "outputs": [
    {
     "name": "stdout",
     "output_type": "stream",
     "text": [
      "The account KU Samfundsvidenskab was created on 2015-12-16 10:21:24\n"
     ]
    }
   ],
   "source": [
    "print(\"The account \" + str(kusamf_timeline.name) + \" was created on \" + str(kusamf_timeline.created_at))"
   ]
  },
  {
   "cell_type": "markdown",
   "metadata": {},
   "source": [
    "**4.1.3** Can you find out 1) where this account is located, 2) how many people are following the account, and 3) how many accounts the account is following?"
   ]
  },
  {
   "cell_type": "code",
   "execution_count": 13,
   "metadata": {
    "scrolled": true
   },
   "outputs": [
    {
     "name": "stdout",
     "output_type": "stream",
     "text": [
      "The account KU Samfundsvidenskab is located in the Capital Region, Denmark\n",
      "The account KU Samfundsvidenskab has 1027 accounts following it.\n",
      "The account KU Samfundsvidenskab is following 241 accounts.\n"
     ]
    }
   ],
   "source": [
    "print(\"The account \" + str(kusamf_timeline.name) + \" is located in the \" + str(kusamf_timeline.location))\n",
    "print(\"The account \" + str(kusamf_timeline.name) + \" has \" + str(kusamf_timeline.followers_count) + \" accounts following it.\")\n",
    "print(\"The account \" + str(kusamf_timeline.name) + \" is following \" + str(kusamf_timeline.friends_count) + \" accounts.\")"
   ]
  },
  {
   "cell_type": "markdown",
   "metadata": {},
   "source": [
    "**4.1.4** Next, get the timeline for this user \"mfroman\". What happens? Can you explain why?"
   ]
  },
  {
   "cell_type": "code",
   "execution_count": 14,
   "metadata": {},
   "outputs": [
    {
     "ename": "TweepError",
     "evalue": "Not authorized.",
     "output_type": "error",
     "traceback": [
      "\u001b[0;31m---------------------------------------------------------------------------\u001b[0m",
      "\u001b[0;31mTweepError\u001b[0m                                Traceback (most recent call last)",
      "\u001b[0;32m<ipython-input-14-58d548322a33>\u001b[0m in \u001b[0;36m<module>\u001b[0;34m\u001b[0m\n\u001b[1;32m      1\u001b[0m \u001b[0;31m# getting mfroman timeline\u001b[0m\u001b[0;34m\u001b[0m\u001b[0;34m\u001b[0m\u001b[0;34m\u001b[0m\u001b[0m\n\u001b[0;32m----> 2\u001b[0;31m \u001b[0muser_timeline\u001b[0m \u001b[0;34m=\u001b[0m \u001b[0mapi\u001b[0m\u001b[0;34m.\u001b[0m\u001b[0muser_timeline\u001b[0m\u001b[0;34m(\u001b[0m\u001b[0;34m\"mfroman\"\u001b[0m\u001b[0;34m)\u001b[0m\u001b[0;34m\u001b[0m\u001b[0;34m\u001b[0m\u001b[0m\n\u001b[0m",
      "\u001b[0;32m/opt/anaconda3/lib/python3.7/site-packages/tweepy/binder.py\u001b[0m in \u001b[0;36m_call\u001b[0;34m(*args, **kwargs)\u001b[0m\n\u001b[1;32m    248\u001b[0m                 \u001b[0;32mreturn\u001b[0m \u001b[0mmethod\u001b[0m\u001b[0;34m\u001b[0m\u001b[0;34m\u001b[0m\u001b[0m\n\u001b[1;32m    249\u001b[0m             \u001b[0;32melse\u001b[0m\u001b[0;34m:\u001b[0m\u001b[0;34m\u001b[0m\u001b[0;34m\u001b[0m\u001b[0m\n\u001b[0;32m--> 250\u001b[0;31m                 \u001b[0;32mreturn\u001b[0m \u001b[0mmethod\u001b[0m\u001b[0;34m.\u001b[0m\u001b[0mexecute\u001b[0m\u001b[0;34m(\u001b[0m\u001b[0;34m)\u001b[0m\u001b[0;34m\u001b[0m\u001b[0;34m\u001b[0m\u001b[0m\n\u001b[0m\u001b[1;32m    251\u001b[0m         \u001b[0;32mfinally\u001b[0m\u001b[0;34m:\u001b[0m\u001b[0;34m\u001b[0m\u001b[0;34m\u001b[0m\u001b[0m\n\u001b[1;32m    252\u001b[0m             \u001b[0mmethod\u001b[0m\u001b[0;34m.\u001b[0m\u001b[0msession\u001b[0m\u001b[0;34m.\u001b[0m\u001b[0mclose\u001b[0m\u001b[0;34m(\u001b[0m\u001b[0;34m)\u001b[0m\u001b[0;34m\u001b[0m\u001b[0;34m\u001b[0m\u001b[0m\n",
      "\u001b[0;32m/opt/anaconda3/lib/python3.7/site-packages/tweepy/binder.py\u001b[0m in \u001b[0;36mexecute\u001b[0;34m(self)\u001b[0m\n\u001b[1;32m    231\u001b[0m                     \u001b[0;32mraise\u001b[0m \u001b[0mRateLimitError\u001b[0m\u001b[0;34m(\u001b[0m\u001b[0merror_msg\u001b[0m\u001b[0;34m,\u001b[0m \u001b[0mresp\u001b[0m\u001b[0;34m)\u001b[0m\u001b[0;34m\u001b[0m\u001b[0;34m\u001b[0m\u001b[0m\n\u001b[1;32m    232\u001b[0m                 \u001b[0;32melse\u001b[0m\u001b[0;34m:\u001b[0m\u001b[0;34m\u001b[0m\u001b[0;34m\u001b[0m\u001b[0m\n\u001b[0;32m--> 233\u001b[0;31m                     \u001b[0;32mraise\u001b[0m \u001b[0mTweepError\u001b[0m\u001b[0;34m(\u001b[0m\u001b[0merror_msg\u001b[0m\u001b[0;34m,\u001b[0m \u001b[0mresp\u001b[0m\u001b[0;34m,\u001b[0m \u001b[0mapi_code\u001b[0m\u001b[0;34m=\u001b[0m\u001b[0mapi_error_code\u001b[0m\u001b[0;34m)\u001b[0m\u001b[0;34m\u001b[0m\u001b[0;34m\u001b[0m\u001b[0m\n\u001b[0m\u001b[1;32m    234\u001b[0m \u001b[0;34m\u001b[0m\u001b[0m\n\u001b[1;32m    235\u001b[0m             \u001b[0;31m# Parse the response payload\u001b[0m\u001b[0;34m\u001b[0m\u001b[0;34m\u001b[0m\u001b[0;34m\u001b[0m\u001b[0m\n",
      "\u001b[0;31mTweepError\u001b[0m: Not authorized."
     ]
    }
   ],
   "source": [
    "# getting mfroman timeline\n",
    "user_timeline = api.user_timeline(\"mfroman\")"
   ]
  },
  {
   "cell_type": "markdown",
   "metadata": {},
   "source": [
    "**4.1.5** Now, get the timeline for our example account \"vicariousveblen\". Some of the tweets were posted automatically, i.e. using a Python script. Can you tell from the metadata which? How?"
   ]
  },
  {
   "cell_type": "code",
   "execution_count": 4,
   "metadata": {},
   "outputs": [],
   "source": [
    "vv_timeline = api.user_timeline(\"vicariousveblen\")"
   ]
  },
  {
   "cell_type": "code",
   "execution_count": 5,
   "metadata": {},
   "outputs": [
    {
     "name": "stdout",
     "output_type": "stream",
     "text": [
      "2020-02-18 16:49:23\n",
      "2020-02-18 16:47:23\n",
      "2020-02-18 16:45:22\n",
      "2020-02-18 16:16:46\n"
     ]
    }
   ],
   "source": [
    "# code to loop through timeline and tell timing of posting\n",
    "for tweet in vv_timeline:\n",
    "    print(tweet.created_at)"
   ]
  },
  {
   "cell_type": "markdown",
   "metadata": {},
   "source": [
    "## 4.2 Writing and using our own functions to process the Twitter data"
   ]
  },
  {
   "cell_type": "markdown",
   "metadata": {},
   "source": [
    "**4.2.1** Collect the timeline for this account \"CPH_SODAS\"."
   ]
  },
  {
   "cell_type": "code",
   "execution_count": 9,
   "metadata": {},
   "outputs": [],
   "source": [
    "sodas_timeline = api.user_timeline(\"CPH_SODAS\")"
   ]
  },
  {
   "cell_type": "markdown",
   "metadata": {},
   "source": [
    "**4.2.2** Write a function that you can use to summarize the tweets in the timeline–feel free to look at the code examples we used earlier today."
   ]
  },
  {
   "cell_type": "code",
   "execution_count": 7,
   "metadata": {},
   "outputs": [],
   "source": [
    "# define the function `user_gist` taking one argument\n",
    "def user_gist(user_timeline):\n",
    "    \n",
    "    # set up empty containers we will need throughout the loop\n",
    "    word_freq = {}\n",
    "    word_list = []\n",
    "    gist = []\n",
    "    \n",
    "    # FIRST, loop through tweets in the timeline\n",
    "    for tweet in user_timeline:\n",
    "        # split up tweets into lists of words\n",
    "        tweet_words = tweet.text.split()\n",
    "        # and combine into one big list using `extend` command\n",
    "        word_list.extend(tweet_words)\n",
    "    \n",
    "    # SECOND, loop through list of words in tweets\n",
    "    for w in word_list:\n",
    "        # add each unique word and its `count` to the dictionary `word_frequency`\n",
    "        if w not in word_freq:\n",
    "            word_freq[w] = word_list.count(w)\n",
    "\n",
    "    #looping through the dictionary and adding each value, key pair to the list\n",
    "    for key in word_freq:\n",
    "        gist.append((word_freq[key], key))\n",
    "\n",
    "    #sorting the list\n",
    "    gist.sort()\n",
    "    #reversing the sort to be largest to smallest\n",
    "    gist.reverse()\n",
    "\n",
    "    #returning the list\n",
    "    return gist"
   ]
  },
  {
   "cell_type": "markdown",
   "metadata": {},
   "source": [
    "**4.2.3** Apply the function to the timeline data you collected. Without looking it up, what would you say this account tweets about?"
   ]
  },
  {
   "cell_type": "code",
   "execution_count": 10,
   "metadata": {},
   "outputs": [
    {
     "data": {
      "text/plain": [
       "[(14, 'the'),\n",
       " (9, 'on'),\n",
       " (9, 'RT'),\n",
       " (7, 'and'),\n",
       " (6, 'to'),\n",
       " (6, 'of'),\n",
       " (4, 'out'),\n",
       " (4, 'in'),\n",
       " (4, 'from'),\n",
       " (4, 'for'),\n",
       " (4, 'a'),\n",
       " (3, 'with'),\n",
       " (3, 'about'),\n",
       " (3, '@suneman'),\n",
       " (3, '@distractdenmark:'),\n",
       " (3, '&amp;'),\n",
       " (3, '#machineanthropology'),\n",
       " (2, 'this'),\n",
       " (2, 'the…'),\n",
       " (2, 'stage'),\n",
       " (2, 'social'),\n",
       " (2, 'series'),\n",
       " (2, 'science'),\n",
       " (2, 'piece'),\n",
       " (2, 'news'),\n",
       " (2, 'new'),\n",
       " (2, 'have'),\n",
       " (2, 'first'),\n",
       " (2, 'commenting'),\n",
       " (2, 'by'),\n",
       " (2, 'been'),\n",
       " (2, 'an'),\n",
       " (2, 'The'),\n",
       " (2, 'Summer'),\n",
       " (2, 'Social'),\n",
       " (2, 'New'),\n",
       " (2, 'Morten'),\n",
       " (2, 'MSc'),\n",
       " (2, 'I'),\n",
       " (2, 'Data'),\n",
       " (2, 'Check'),\n",
       " (2, 'Axel'),\n",
       " (2, '@fmerhout'),\n",
       " (2, '@andbjn:'),\n",
       " (2, '@RebAdlerNissen,'),\n",
       " (1, \"📲'Politikere\"),\n",
       " (1, '“R'),\n",
       " (1, 'you'),\n",
       " (1, 'workshop'),\n",
       " (1, 'widely'),\n",
       " (1, 'which'),\n",
       " (1, 'where'),\n",
       " (1, 'well-off'),\n",
       " (1, 'we'),\n",
       " (1, 'want'),\n",
       " (1, 'visited'),\n",
       " (1, 'verdens'),\n",
       " (1, 'various'),\n",
       " (1, 'use'),\n",
       " (1, 'us'),\n",
       " (1, 'travel'),\n",
       " (1, 'transfer'),\n",
       " (1, 'tools?'),\n",
       " (1, 'through'),\n",
       " (1, 'this…'),\n",
       " (1, 'teach'),\n",
       " (1, 'taste?'),\n",
       " (1, 'talks'),\n",
       " (1, 'surrounding'),\n",
       " (1, 'spring'),\n",
       " (1, 'speaking'),\n",
       " (1, 'speakers'),\n",
       " (1, 'social…'),\n",
       " (1, 'simple'),\n",
       " (1, 'shape'),\n",
       " (1, 'school'),\n",
       " (1, 'schedule'),\n",
       " (1, 'revolves'),\n",
       " (1, 'research.'),\n",
       " (1, 'redrawing'),\n",
       " (1, 'receive'),\n",
       " (1, 'reactions'),\n",
       " (1, 'på'),\n",
       " (1, 'project'),\n",
       " (1, 'prog…'),\n",
       " (1, 'program'),\n",
       " (1, 'professor'),\n",
       " (1, 'presentations'),\n",
       " (1, 'pres'),\n",
       " (1, 'preliminary'),\n",
       " (1, 'predicting'),\n",
       " (1, 'podcast'),\n",
       " (1, 'perspectives'),\n",
       " (1, 'people'),\n",
       " (1, 'o…'),\n",
       " (1, 'our'),\n",
       " (1, 'others'),\n",
       " (1, 'opinion'),\n",
       " (1, 'og'),\n",
       " (1, 'neighborh…'),\n",
       " (1, 'mobil'),\n",
       " (1, 'mixing'),\n",
       " (1, 'miss'),\n",
       " (1, 'meth…'),\n",
       " (1, 'media'),\n",
       " (1, 'mechanisms'),\n",
       " (1, 'matters'),\n",
       " (1, 'link'),\n",
       " (1, 'lecture'),\n",
       " (1, 'kids'),\n",
       " (1, 'invited'),\n",
       " (1, 'influence'),\n",
       " (1, 'inequalities'),\n",
       " (1, 'i'),\n",
       " (1, 'https://t.co/uE9OgPujF5'),\n",
       " (1, 'https://t.co/sMZJ5l6ymG'),\n",
       " (1, 'https://t.co/hi2vClmf3e'),\n",
       " (1, 'https://t.co/esyX3paEl7'),\n",
       " (1, 'https://t.co/b54dD3HmjC'),\n",
       " (1, 'https://t.co/aXy61pWAtZ'),\n",
       " (1, 'https://t.co/YvqlQOqFsR'),\n",
       " (1, 'https://t.co/XvslIriVf4'),\n",
       " (1, 'https://t.co/WK0qp59Bjg'),\n",
       " (1, 'https://t.co/KaoRrJUG0e'),\n",
       " (1, 'https://t.co/Arg6Mbg8ms'),\n",
       " (1, 'https://t.co/72RDrSqX…'),\n",
       " (1, 'https://t.co/62KsL3j8cY'),\n",
       " (1, 'https://t.co/5Emhm5xdNx'),\n",
       " (1, 'how'),\n",
       " (1, 'his'),\n",
       " (1, 'hele'),\n",
       " (1, 'has'),\n",
       " (1, 'grant!'),\n",
       " (1, 'grant'),\n",
       " (1, 'front'),\n",
       " (1, 'forhandlingsrummet'),\n",
       " (1, 'forhandler'),\n",
       " (1, 'foran'),\n",
       " (1, 'fellow'),\n",
       " (1, 'excited'),\n",
       " (1, 'emojis,'),\n",
       " (1, 'distinction'),\n",
       " (1, 'developments'),\n",
       " (1, 'decrease'),\n",
       " (1, 'dealing'),\n",
       " (1, 'de'),\n",
       " (1, 'day’s'),\n",
       " (1, 'data'),\n",
       " (1, 'crisis.'),\n",
       " (1, 'course'),\n",
       " (1, 'contagions.'),\n",
       " (1, 'complex'),\n",
       " (1, 'combining'),\n",
       " (1, 'colleague…'),\n",
       " (1, 'colleagues.'),\n",
       " (1, 'chips'),\n",
       " (1, 'både'),\n",
       " (1, 'boundaries'),\n",
       " (1, 'bots'),\n",
       " (1, 'beyond'),\n",
       " (1, 'between'),\n",
       " (1, 'befolkning'),\n",
       " (1, 'back'),\n",
       " (1, 'awarded'),\n",
       " (1, 'award'),\n",
       " (1, 'audience:'),\n",
       " (1, 'attendance'),\n",
       " (1, 'at'),\n",
       " (1, 'aspects'),\n",
       " (1, 'aroun…'),\n",
       " (1, 'announce'),\n",
       " (1, 'am'),\n",
       " (1, 'affect'),\n",
       " (1, 'address'),\n",
       " (1, 'Willadsen'),\n",
       " (1, 'What'),\n",
       " (1, 'University'),\n",
       " (1, 'UCPH'),\n",
       " (1, 'Today,'),\n",
       " (1, 'This'),\n",
       " (1, 'Thick'),\n",
       " (1, 'Sune'),\n",
       " (1, 'Spring'),\n",
       " (1, 'Series'),\n",
       " (1, 'Science”'),\n",
       " (1, 'Science'),\n",
       " (1, 'Say'),\n",
       " (1, 'Sapienza'),\n",
       " (1, 'SODAS'),\n",
       " (1, 'R…'),\n",
       " (1, 'Research'),\n",
       " (1, 'Ray…'),\n",
       " (1, 'Prof.'),\n",
       " (1, 'Princess'),\n",
       " (1, 'Phillip'),\n",
       " (1, 'PhD'),\n",
       " (1, 'Peter'),\n",
       " (1, 'Pedersen,'),\n",
       " (1, 'Pedersen'),\n",
       " (1, 'Passionate'),\n",
       " (1, 'Nicolajsen'),\n",
       " (1, 'News'),\n",
       " (1, 'Nature'),\n",
       " (1, 'Monday'),\n",
       " (1, 'Ministry'),\n",
       " (1, 'Mary'),\n",
       " (1, 'Machine'),\n",
       " (1, 'Lehmann'),\n",
       " (1, 'Kristin'),\n",
       " (1, 'Kelton'),\n",
       " (1, 'J…'),\n",
       " (1, 'Join'),\n",
       " (1, 'Institute'),\n",
       " (1, 'Honored'),\n",
       " (1, 'Higher'),\n",
       " (1, 'Helene'),\n",
       " (1, 'Halkier'),\n",
       " (1, 'For'),\n",
       " (1, 'English'),\n",
       " (1, 'Elite'),\n",
       " (1, 'Education&amp;Scien…'),\n",
       " (1, \"Don't\"),\n",
       " (1, 'Discussion'),\n",
       " (1, 'Data+'),\n",
       " (1, 'Danish'),\n",
       " (1, 'Crown'),\n",
       " (1, 'Copenhagen…'),\n",
       " (1, 'Computational'),\n",
       " (1, 'Chinese'),\n",
       " (1, 'Can'),\n",
       " (1, 'COVID19'),\n",
       " (1, 'Brooker'),\n",
       " (1, 'Anna'),\n",
       " (1, 'And'),\n",
       " (1, 'Anabel'),\n",
       " (1, 'A'),\n",
       " (1, '@weekendavisen'),\n",
       " (1, '@uni_copenhagen'),\n",
       " (1, \"@suneman's\"),\n",
       " (1, '@naturep'),\n",
       " (1, '@keltonminor:'),\n",
       " (1, '@fmerhout:'),\n",
       " (1, '@daviddlassen,'),\n",
       " (1, '@aroepstorff'),\n",
       " (1, '@RebAdlerNissen'),\n",
       " (1, '@MerSchaeffer:'),\n",
       " (1, '@M_B_Petersen'),\n",
       " (1, '@Golovchenko_Yev'),\n",
       " (1, '@Carlsbergfondet:'),\n",
       " (1, '@Carlsbergfondet'),\n",
       " (1, '@CPH_SODAS.'),\n",
       " (1, '@CPH_SODAS'),\n",
       " (1, '@BlokAnders'),\n",
       " (1, '@AndersKMunk'),\n",
       " (1, '5-day'),\n",
       " (1, '(…'),\n",
       " (1, '(@CPH_SODAS),'),\n",
       " (1, '(1/7)'),\n",
       " (1, '#segregation?'),\n",
       " (1, '#SocialDataScience'),\n",
       " (1, '#SODAS')]"
      ]
     },
     "execution_count": 10,
     "metadata": {},
     "output_type": "execute_result"
    }
   ],
   "source": [
    "user_gist(sodas_timeline)"
   ]
  },
  {
   "cell_type": "markdown",
   "metadata": {},
   "source": [
    "## 4.3 Follow Your Interests"
   ]
  },
  {
   "cell_type": "markdown",
   "metadata": {},
   "source": [
    "**4.3.1** Identify three Twitter accounts _or_ key words of interest to you. Use the functionality we learned today to look at their history of the accounts, who tweets about your keywords, what do your accounts tweet about etc."
   ]
  }
 ],
 "metadata": {
  "kernelspec": {
   "display_name": "Python 3",
   "language": "python",
   "name": "python3"
  },
  "language_info": {
   "codemirror_mode": {
    "name": "ipython",
    "version": 3
   },
   "file_extension": ".py",
   "mimetype": "text/x-python",
   "name": "python",
   "nbconvert_exporter": "python",
   "pygments_lexer": "ipython3",
   "version": "3.7.4"
  }
 },
 "nbformat": 4,
 "nbformat_minor": 2
}
